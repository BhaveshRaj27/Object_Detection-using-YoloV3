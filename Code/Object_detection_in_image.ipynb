{
 "cells": [
  {
   "cell_type": "code",
   "execution_count": 1,
   "metadata": {},
   "outputs": [],
   "source": [
    "import numpy as np \n",
    "import cv2"
   ]
  },
  {
   "cell_type": "code",
   "execution_count": 2,
   "metadata": {},
   "outputs": [],
   "source": [
    "# creating skeleton of the Yolov3 using weights and its configration\n",
    "net = cv2.dnn.readNet(\"F:\\object_dectection\\yolov3.weights\", \"F:\\object_dectection\\yolov3.cfg\")\n",
    "\n",
    "# classes are the object which can be detected by Yolov3\n",
    "classes=[]\n",
    "with open('F:\\object_dectection\\coco.names','r') as f:\n",
    "    classes=f.read().splitlines()\n",
    "# Reading image which can be used for detection\n",
    "img= cv2.imread('F:\\object_dectection\\image.jpg')\n",
    "height, width, _ =img.shape\n",
    "\n",
    "# converting image as per yolov3\n",
    "blob = cv2.dnn.blobFromImage(img,1/255,(416,416),(0,0,0),swapRB=True,crop=False)\n",
    "\n",
    "# Providing input\n",
    "net.setInput(blob)\n",
    "\n",
    "# Getting output \n",
    "output_layers_names = net.getUnconnectedOutLayersNames()\n",
    "LayerOutputs = net.forward(output_layers_names)\n",
    "\n",
    "boxes=[]\n",
    "confidences=[]\n",
    "class_ids=[]\n",
    "# In these for loops we are eleminating the objects whose predction value less than 50%.\n",
    "# Also extrating the size of the bounding boxes\n",
    "for output in LayerOutputs:\n",
    "    for detection in output:\n",
    "        scores=detection[5:]\n",
    "        class_id=np.argmax(scores)\n",
    "        confidence=scores[class_id]\n",
    "        if confidence > 0.5 :\n",
    "            center_x=int(detection[0]*width)\n",
    "            center_y=int(detection[1]*height)\n",
    "            w = int(detection[2]*width)\n",
    "            h = int(detection[3]*height)\n",
    "\n",
    "            x=int(center_x - w/2)\n",
    "            y=int(center_y - h/2)\n",
    "            boxes.append([x,y,w,h])\n",
    "            confidences.append(confidence)\n",
    "            class_ids.append(class_id)\n",
    "\n",
    "confidences=list(map(float,confidences))\n",
    "\n",
    "# Non-Maximal supression\n",
    "indexes = cv2.dnn.NMSBoxes(boxes,confidences,0.5,0.4)\n",
    "indexes=np.array(indexes)\n",
    "\n",
    "\n",
    "# used to create bounding box and label for each object\n",
    "font=cv2.FONT_HERSHEY_PLAIN\n",
    "colors= np.random.uniform(0,255,size=(len(boxes),3))\n",
    "for i in indexes.flatten():\n",
    "    x,y,w,h=boxes[i]\n",
    "    label=str(classes[class_ids[i]])\n",
    "    confidence = str(round(confidences[i],2))\n",
    "    color = colors[i]\n",
    "    cv2.rectangle(img, (x,y),(x+w,y+h),color,2)\n",
    "    cv2.putText(img, label+' '+confidence, (x,y+20), font, 1, color, 1)\n",
    "\n",
    "cv2.imshow(\"Image\",img)\n",
    "key=cv2.waitKey(0)\n",
    "cv2.destroyAllWindows()"
   ]
  }
 ],
 "metadata": {
  "kernelspec": {
   "display_name": "Python 3",
   "language": "python",
   "name": "python3"
  },
  "language_info": {
   "codemirror_mode": {
    "name": "ipython",
    "version": 3
   },
   "file_extension": ".py",
   "mimetype": "text/x-python",
   "name": "python",
   "nbconvert_exporter": "python",
   "pygments_lexer": "ipython3",
   "version": "3.7.1"
  }
 },
 "nbformat": 4,
 "nbformat_minor": 2
}
